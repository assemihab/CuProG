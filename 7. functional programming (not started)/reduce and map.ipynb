{
 "cells": [
  {
   "cell_type": "code",
   "execution_count": 2,
   "metadata": {},
   "outputs": [
    {
     "name": "stdout",
     "output_type": "stream",
     "text": [
      "9\n"
     ]
    }
   ],
   "source": [
    "pow2=lambda x:x**2\n",
    "print(pow2(3))"
   ]
  },
  {
   "cell_type": "code",
   "execution_count": 3,
   "metadata": {},
   "outputs": [
    {
     "data": {
      "text/plain": [
       "[1, 4, 9, 16, 25]"
      ]
     },
     "execution_count": 3,
     "metadata": {},
     "output_type": "execute_result"
    }
   ],
   "source": [
    "map(lambda x:x**2,[1,2,3,4,5])\n",
    "list(map(lambda x:x**2,[1,2,3,4,5]))"
   ]
  },
  {
   "cell_type": "code",
   "execution_count": 4,
   "metadata": {},
   "outputs": [
    {
     "data": {
      "text/plain": [
       "10"
      ]
     },
     "execution_count": 4,
     "metadata": {},
     "output_type": "execute_result"
    }
   ],
   "source": [
    "from functools import reduce\n",
    "reduce(lambda x,y:x+y,[1,2,3,4])"
   ]
  },
  {
   "cell_type": "code",
   "execution_count": 5,
   "metadata": {},
   "outputs": [
    {
     "name": "stdout",
     "output_type": "stream",
     "text": [
      "[ 1  3  6 10]\n",
      "[ 1  3  6 10]\n"
     ]
    }
   ],
   "source": [
    "import numpy as np\n",
    "import pycuda.autoinit\n",
    "from pycuda import gpuarray\n",
    "from pycuda.scan import InclusiveScanKernel\n",
    "seq=np.array([1,2,3,4],dtype=np.int32)\n",
    "seq_gpu=gpuarray.to_gpu(seq)\n",
    "sum_gpu=InclusiveScanKernel(np.int32,\"a+b\")\n",
    "print(sum_gpu(seq_gpu).get())\n",
    "print(np.cumsum(seq))"
   ]
  },
  {
   "cell_type": "code",
   "execution_count": 8,
   "metadata": {},
   "outputs": [
    {
     "name": "stdout",
     "output_type": "stream",
     "text": [
      "10000\n"
     ]
    }
   ],
   "source": [
    "seq=np.array([1,100,-3,-10000,4,10000,66,14,21],dtype=np.int32)\n",
    "seq_gpu=gpuarray.to_gpu(seq)\n",
    "max_gpu=InclusiveScanKernel(np.int32,\"a>b?a:b\")\n",
    "print(max_gpu(seq_gpu).get()[-1])"
   ]
  },
  {
   "cell_type": "code",
   "execution_count": 9,
   "metadata": {},
   "outputs": [
    {
     "name": "stdout",
     "output_type": "stream",
     "text": [
      "300.0\n"
     ]
    }
   ],
   "source": [
    "from pycuda.reduction import ReductionKernel\n",
    "dot_prod=ReductionKernel(np.float32,neutral=\"0\",reduce_expr=\"a+b\",map_expr=\"x[i]*y[i]\",arguments=\"float *x,float *y\")\n",
    "\n",
    "x=np.array([1,2,3,4],dtype=np.float32)\n",
    "y=np.array([10,20,30,40],dtype=np.float32)\n",
    "x_gpu=gpuarray.to_gpu(x)\n",
    "y_gpu=gpuarray.to_gpu(y)\n",
    "print(dot_prod(x_gpu,y_gpu))"
   ]
  },
  {
   "cell_type": "code",
   "execution_count": null,
   "metadata": {},
   "outputs": [],
   "source": []
  }
 ],
 "metadata": {
  "kernelspec": {
   "display_name": "Python 3",
   "language": "python",
   "name": "python3"
  },
  "language_info": {
   "codemirror_mode": {
    "name": "ipython",
    "version": 3
   },
   "file_extension": ".py",
   "mimetype": "text/x-python",
   "name": "python",
   "nbconvert_exporter": "python",
   "pygments_lexer": "ipython3",
   "version": "3.12.3"
  }
 },
 "nbformat": 4,
 "nbformat_minor": 2
}
